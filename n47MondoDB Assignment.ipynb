{
 "cells": [
  {
   "cell_type": "code",
   "execution_count": 1,
   "id": "5f3cf4ac-bf30-432d-9480-ccc7f8fa0139",
   "metadata": {},
   "outputs": [],
   "source": [
    "# Q1. What is MongoDB? Explain non-relational databases in short. In which scenarios it is preferred to use MongoDB over SQL databases?\n",
    "\n",
    "# Answer:- * It is a non-relational and document-oriented database.\n",
    "#          * It is suitable for hierarchical data storage.\n",
    "#          * It has a dynamic schema.\n",
    "#          * It centers around the CAP theorem (Consistency, Availability, and Partition tolerance).\n",
    "#          * In terms of performance, it is much faster than RDBMS.\n",
    "\n",
    "# * A non-relational database, sometimes called NoSQL (Not Only SQL), is any kind of database that doesn’t use the tables, fields, and \n",
    "#   columns structured data concept from relational databases. Non-relational databases have been designed with the cloud in mind, making \n",
    "#   them great at horizontal scaling.\n",
    "\n",
    "# * As discussed, there are many types of non-relational databases, each having their own advantages and disadvantages.\n",
    "# * However, non-relational databases still maintain some consistent advantages. If the data you are storing needs to be flexible in \n",
    "#   terms of shape or size, or if it needs to be open to change in future, then a non-relational database is the answer.\n",
    "# * Modern NoSQL databases have been designed for the cloud, making them naturally good for horizontal scaling where a lot of smaller \n",
    "#   servers can be spun up to handle increased load.\n",
    "# * Learn how you can transition your project from relational to document-based non-relational databases.\n",
    "# * MySQL and MongoDB represent two sides of an argument that has been raging recently concerning data storage — the tried and tested \n",
    "#   relational database vs. non-relational or No-SQL database. They are both open-source products distributed under a version of the GNU\n",
    "#   GPL, and both are also available as commercial versions offering many more features and corporate support."
   ]
  },
  {
   "cell_type": "code",
   "execution_count": 2,
   "id": "ea7e7e9d-3c6e-4766-8796-05a67f6209fe",
   "metadata": {},
   "outputs": [],
   "source": [
    "# Q2. State and Explain the features of MongoDB.\n",
    "\n",
    "# Answer:-\n",
    "# These are some important features of MongoDB:\n",
    "# 1. Support ad hoc queries\n",
    "#    * In MongoDB, you can search by field, range query and it also supports regular expression searches.\n",
    "# 2. Indexing\n",
    "#    * You can index any field in a document.\n",
    "# 3. Replication\n",
    "#    * MongoDB supports Master Slave replication.\n",
    "#    * A master can perform Reads and Writes and a Slave copies data from the master and can only be used for reads or back up (not writes)\n",
    "# 4. Duplication of data\n",
    "#    * MongoDB can run over multiple servers. The data is duplicated to keep the system up and also keep its running condition in case of hardware failure.\n",
    "# 5. Load balancing\n",
    "#    * It has an automatic load balancing configuration because of data placed in shards.\n",
    "# 6. Supports map reduce and aggregation tools.\n",
    "# 7. Uses JavaScript instead of Procedures.\n",
    "# 8. It is a schema-less database written in C++.\n",
    "# 9. Provides high performance.\n",
    "# 10. Stores files of any size easily without complicating your stack.\n",
    "# 11. Easy to administer in the case of failures.\n",
    "# 12. It also supports:\n",
    "#     * JSON data model with dynamic schemas\n",
    "#     * Auto-sharding for horizontal scalability\n",
    "#     * Built in replication for high availability\n"
   ]
  },
  {
   "cell_type": "code",
   "execution_count": 9,
   "id": "2d681dbb-493a-45a5-be11-8794fc045ba0",
   "metadata": {},
   "outputs": [],
   "source": [
    "# Q3. Write a code to connect MongoDB to Python. Also, create a database and a collection in MongoDB.\n",
    "\n",
    "# Answer:-\n",
    "# from pymongo import MongoClient\n",
    "  \n",
    "# client=MongoClient()\n",
    "  \n",
    "# client = MongoClient(\"mongodb://localhost:27017/\")\n",
    "  \n",
    "# mydatabase = client[\"name_of_the_database\"]\n",
    "  \n",
    "# mycollection=mydatabase[\"myTable\"]\n",
    "\n",
    "# rec=myTable.insert_one{\n",
    "# title: 'MongoDB and Python', \n",
    "# description: 'MongoDB is no SQL database', \n",
    "# tags: ['mongodb', 'database', 'NoSQL'], \n",
    "# viewers: 104 \n",
    "# }\n",
    "\n",
    "# rec = mydatabase.myTable.insert(record)"
   ]
  },
  {
   "cell_type": "code",
   "execution_count": 6,
   "id": "a1e2412e-53a1-4290-84e3-4f52dba0fca8",
   "metadata": {},
   "outputs": [
    {
     "name": "stdout",
     "output_type": "stream",
     "text": [
      "Collecting pymongo\n",
      "  Downloading pymongo-4.3.3-cp310-cp310-manylinux_2_17_x86_64.manylinux2014_x86_64.whl (492 kB)\n",
      "\u001b[2K     \u001b[90m━━━━━━━━━━━━━━━━━━━━━━━━━━━━━━━━━━━━━━\u001b[0m \u001b[32m492.9/492.9 kB\u001b[0m \u001b[31m15.4 MB/s\u001b[0m eta \u001b[36m0:00:00\u001b[0m\n",
      "\u001b[?25hCollecting dnspython<3.0.0,>=1.16.0\n",
      "  Downloading dnspython-2.3.0-py3-none-any.whl (283 kB)\n",
      "\u001b[2K     \u001b[90m━━━━━━━━━━━━━━━━━━━━━━━━━━━━━━━━━━━━━━\u001b[0m \u001b[32m283.7/283.7 kB\u001b[0m \u001b[31m38.3 MB/s\u001b[0m eta \u001b[36m0:00:00\u001b[0m\n",
      "\u001b[?25hInstalling collected packages: dnspython, pymongo\n",
      "Successfully installed dnspython-2.3.0 pymongo-4.3.3\n",
      "Note: you may need to restart the kernel to use updated packages.\n"
     ]
    }
   ],
   "source": [
    "pip install pymongo"
   ]
  },
  {
   "cell_type": "code",
   "execution_count": 12,
   "id": "fabe17ef-d8ed-4a50-950b-3d6c40965903",
   "metadata": {},
   "outputs": [],
   "source": [
    "# Q4. Using the database and the collection created in question number 3, write a code to insert one record, and insert many records. \n",
    "#     Use the find() and find_one() methods to print the inserted record.\n",
    "\n",
    "\n",
    "# from pymongo import MongoClient\n",
    " \n",
    "# myclient = MongoClient(\"mongodb+srv://vishal3550:<password>@cluster0.11cyaez.mongodb.net/?retryWrites=true&w=majority\")\n",
    " \n",
    "# db = myclient[\"GFG\"]\n",
    "\n",
    "# collection = db[\"Student\"]\n",
    "\n",
    "# records = {\n",
    "#     \"record1\": { \"_id\": 6,\n",
    "#     \"name\": \"Anshul\",\n",
    "#     \"Roll No\": \"1006\",\n",
    "#     \"Branch\": \"CSE\"},\n",
    " \n",
    "#     \"record2\": { \"_id\": 7,\n",
    "#     \"name\": \"Abhinav\",\n",
    "#     \"Roll No\": \"1007\",\n",
    "#     \"Branch\": \"ME\"}\n",
    "# }\n",
    "\n",
    "# for record in records.values():\n",
    "#     collection.insert_one(record)"
   ]
  },
  {
   "cell_type": "code",
   "execution_count": 16,
   "id": "1048abbf-4495-40d6-9bd3-0f881130bd93",
   "metadata": {},
   "outputs": [],
   "source": [
    "# Q5. Explain how you can use the find() method to query the MongoDB database. Write a simple code to demonstrate this.\n",
    "# from pymongo import MongoClient\n",
    " \n",
    "# myclient = MongoClient(\"mongodb+srv://vishal3550:<password>@cluster0.11cyaez.mongodb.net/?retryWrites=true&w=majority\")\n",
    " \n",
    "# db = myclient[\"GFG\"]\n",
    "\n",
    "# collection = db[\"Student\"]\n",
    "# db.student.find(records)\n",
    "# records = {\n",
    "#     \"record1\": { \"_id\": 6,\n",
    "#     \"name\": \"Anshul\",\n",
    "#     \"Roll No\": \"1006\",\n",
    "#     \"Branch\": \"CSE\"},\n",
    " \n",
    "#     \"record2\": { \"_id\": 7,\n",
    "#     \"name\": \"Abhinav\",\n",
    "#     \"Roll No\": \"1007\",\n",
    "#     \"Branch\": \"ME\"}\n",
    "# }\n",
    "\n"
   ]
  },
  {
   "cell_type": "code",
   "execution_count": 15,
   "id": "be45967c-44cd-4be0-8496-1102a3133646",
   "metadata": {},
   "outputs": [],
   "source": [
    "# Q6. Explain the sort() method. Give an example to demonstrate sorting in MongoDB.\n",
    "\n",
    "# from pymongo import MongoClient\n",
    " \n",
    "# myclient = MongoClient(\"mongodb+srv://vishal3550:<password>@cluster0.11cyaez.mongodb.net/?retryWrites=true&w=majority\")\n",
    " \n",
    "# db = myclient[\"GFG\"]\n",
    "\n",
    "# collection = db[\"Student\"]\n",
    "# db.student.find.sort(){(records)}\n",
    "# records = {\n",
    "#     \"record1\": { \"_id\": 6,\n",
    "#     \"name\": \"Anshul\",\n",
    "#     \"Roll No\": \"1006\",\n",
    "#     \"Branch\": \"CSE\"},\n",
    " \n",
    "#     \"record2\": { \"_id\": 7,\n",
    "#     \"name\": \"Abhinav\",\n",
    "#     \"Roll No\": \"1007\",\n",
    "#     \"Branch\": \"ME\"}\n",
    "# }"
   ]
  },
  {
   "cell_type": "code",
   "execution_count": 14,
   "id": "e5c0b6c4-0b50-4667-bdc8-797f71737d40",
   "metadata": {},
   "outputs": [],
   "source": [
    "# Q7. Explain why delete_one(), delete_many(), and drop() is used.\n",
    "\n",
    "#  Delete_many() is used when one needs to delete more than one document.\n",
    "#  Deleting document from Collection or Database. In MongoDB, a single document can be deleted by the method delete_one().\n",
    "#  drop() method is used to drop a collection from a database."
   ]
  },
  {
   "cell_type": "code",
   "execution_count": null,
   "id": "f15327ce-bcb9-4eba-a938-93ae1707c53c",
   "metadata": {},
   "outputs": [],
   "source": []
  }
 ],
 "metadata": {
  "kernelspec": {
   "display_name": "Python 3 (ipykernel)",
   "language": "python",
   "name": "python3"
  },
  "language_info": {
   "codemirror_mode": {
    "name": "ipython",
    "version": 3
   },
   "file_extension": ".py",
   "mimetype": "text/x-python",
   "name": "python",
   "nbconvert_exporter": "python",
   "pygments_lexer": "ipython3",
   "version": "3.10.8"
  }
 },
 "nbformat": 4,
 "nbformat_minor": 5
}
